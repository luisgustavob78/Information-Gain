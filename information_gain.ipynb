{
 "cells": [
  {
   "cell_type": "code",
   "execution_count": null,
   "metadata": {},
   "outputs": [],
   "source": [
    "# entropia na base:\n",
    "\n",
    "import math\n",
    "\n",
    "n = len(data['Churn'])\n",
    "n0 = len(data[data['Churn'] == 'No'])\n",
    "n1 = len(data[data['Churn'] == 'Yes'])\n",
    "\n",
    "p0 = n0/n\n",
    "p1 = n1/n\n",
    "\n",
    "s = -(p0*math.log(p0, 2) + p1*math.log(p1, 2))\n",
    "\n",
    "print(s)"
   ]
  },
  {
   "cell_type": "code",
   "execution_count": null,
   "metadata": {},
   "outputs": [],
   "source": [
    "# calculando o GI de alguns atributos categóricos\n",
    "\n",
    "colunas = ['gender', 'SeniorCitizen', 'Partner', 'Dependents',\n",
    "       'PhoneService', 'MultipleLines', 'InternetService',\n",
    "       'OnlineSecurity', 'OnlineBackup', 'DeviceProtection', 'TechSupport',\n",
    "       'StreamingTV', 'StreamingMovies', 'Contract', 'PaperlessBilling',\n",
    "       'PaymentMethod']\n",
    "\n",
    "\n",
    "GI = 0\n",
    "GI_result = []\n",
    "for col in colunas:\n",
    "    df_inter = data\n",
    "    row_values = df_inter[col].unique()\n",
    "    \n",
    "    son_entropy = 0\n",
    "    for unique in row_values:\n",
    "        \n",
    "        df = df_inter[df_inter[col]==unique]\n",
    "        \n",
    "        x = len(df)\n",
    "        \n",
    "        px = x/n\n",
    "        \n",
    "        l0 = len(df[df['Churn']=='No'])\n",
    "        l1 = len(df[df['Churn']=='Yes'])\n",
    "        \n",
    "        c0 = l0/x\n",
    "        c1 = l1/x\n",
    "        \n",
    "        if c0 == 1:\n",
    "            \n",
    "            c0 = 0.99999\n",
    "            c1 = 0.00001\n",
    "            \n",
    "        if c0 == 0:\n",
    "            \n",
    "            c0 = 0.00001\n",
    "            c1 = 0.99999\n",
    "        \n",
    "        son_entropy = son_entropy + (-(px*(c0*math.log(c0, 2) + c1*math.log(c1, 2))))\n",
    "        \n",
    "    GI = s - son_entropy\n",
    "    \n",
    "    #print('entropy by ', col, ' is ', son_entropy)\n",
    "    print('GI by ', col, ' is ', GI)"
   ]
  }
 ],
 "metadata": {
  "kernelspec": {
   "display_name": "Python 3",
   "language": "python",
   "name": "python3"
  },
  "language_info": {
   "codemirror_mode": {
    "name": "ipython",
    "version": 3
   },
   "file_extension": ".py",
   "mimetype": "text/x-python",
   "name": "python",
   "nbconvert_exporter": "python",
   "pygments_lexer": "ipython3",
   "version": "3.7.1"
  }
 },
 "nbformat": 4,
 "nbformat_minor": 2
}
